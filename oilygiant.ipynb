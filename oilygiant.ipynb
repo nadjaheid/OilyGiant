{
 "cells": [
  {
   "cell_type": "markdown",
   "metadata": {},
   "source": [
    "Projeto de Desenvolvimento de Novos Poços de Petróleo\n",
    "\n",
    "No contexto da indústria petrolífera, a tomada de decisão estratégica sobre o desenvolvimento de novos poços de petróleo é crucial para o sucesso e a sustentabilidade das operações. Este projeto se concentra em abordar esse desafio, fornecendo uma estrutura metodológica baseada em aprendizado de máquina para identificar as regiões mais promissoras para exploração. Utilizando dados geológicos sintéticos de três regiões distintas, o objetivo é desenvolver modelos de regressão linear capazes de prever o volume de reservas em novos poços de petróleo. Além disso, o projeto incorpora análises de lucro e riscos, empregando técnicas como bootstrapping para avaliar os potenciais retornos e as incertezas associadas a cada região. Ao final, espera-se oferecer insights valiosos para orientar decisões estratégicas na seleção das melhores áreas para investimento e desenvolvimento de poços de petróleo."
   ]
  },
  {
   "cell_type": "markdown",
   "metadata": {},
   "source": [
    "1  Importando as bibliotecas e as bases de dados"
   ]
  },
  {
   "cell_type": "code",
   "execution_count": null,
   "metadata": {},
   "outputs": [],
   "source": [
    "import pandas as pd\n",
    "from sklearn.model_selection import train_test_split\n",
    "from sklearn.linear_model import LinearRegression\n",
    "from sklearn.metrics import mean_squared_error\n",
    "import numpy as np"
   ]
  },
  {
   "cell_type": "code",
   "execution_count": null,
   "metadata": {},
   "outputs": [],
   "source": [
    "data0 = pd.read_csv('/datasets/geo_data_0.csv')\n",
    "data1 = pd.read_csv('/datasets/geo_data_1.csv')\n",
    "data2 = pd.read_csv('/datasets/geo_data_2.csv')"
   ]
  },
  {
   "cell_type": "markdown",
   "metadata": {},
   "source": [
    "2  Preparação dos dados"
   ]
  },
  {
   "cell_type": "code",
   "execution_count": null,
   "metadata": {},
   "outputs": [],
   "source": [
    "data0.info()\n",
    "print()\n",
    "print()\n",
    "data1.info()\n",
    "print()\n",
    "print()\n",
    "data2.info()"
   ]
  },
  {
   "cell_type": "code",
   "execution_count": null,
   "metadata": {},
   "outputs": [],
   "source": [
    "print(data0.sample(5))\n",
    "print()\n",
    "print()\n",
    "print(data1.sample(5))\n",
    "print()\n",
    "print()\n",
    "print(data2.sample(5))"
   ]
  },
  {
   "cell_type": "markdown",
   "metadata": {},
   "source": [
    "Os três dataframes não possuem valores ausentes. Seus valores e tipos de dados correspondem ao que se espera. A variável id corresponde ao identificador unívoco de cada poço de petróleo, como uma variável no formato string e as demais variáveis que representam as características e capacidade de cada poço como float."
   ]
  },
  {
   "cell_type": "markdown",
   "metadata": {},
   "source": [
    "3  Treinamento e teste do modelo"
   ]
  },
  {
   "cell_type": "code",
   "execution_count": null,
   "metadata": {},
   "outputs": [],
   "source": [
    "def train_and_test_model(data):\n",
    "    # Dividindo os dados em características (X) e rótulos (y)\n",
    "    X = data[['f0', 'f1', 'f2']]\n",
    "    y = data['product']\n",
    "\n",
    "    # Dividindo os dados em conjunto de treinamento e conjunto de validação\n",
    "    X_train, X_val, y_train, y_val = train_test_split(X, y, test_size=0.25, random_state=42)\n",
    "\n",
    "    # Treinando o modelo de regressão linear\n",
    "    model = LinearRegression()\n",
    "    model.fit(X_train, y_train)\n",
    "\n",
    "    # Fazendo as predições no conjunto de validação\n",
    "    y_pred = model.predict(X_val)\n",
    "\n",
    "    # Calculando o REQM (Erro Quadrático Médio)\n",
    "    rmse = mean_squared_error(y_val, y_pred, squared=False)\n",
    "\n",
    "    # Calculando o volume médio previsto de reservas\n",
    "    mean_predicted_volume = y_pred.mean()\n",
    "\n",
    "    return mean_predicted_volume, rmse"
   ]
  },
  {
   "cell_type": "code",
   "execution_count": null,
   "metadata": {},
   "outputs": [],
   "source": [
    "# Para data0\n",
    "mean_predicted_volume_0, rmse_0 = train_and_test_model(data0)\n",
    "print(\"Para data0:\")\n",
    "print(\"Volume médio previsto de reservas:\", mean_predicted_volume_0)\n",
    "print(\"REQM do modelo:\", rmse_0)\n",
    "print()"
   ]
  },
  {
   "cell_type": "code",
   "execution_count": null,
   "metadata": {},
   "outputs": [],
   "source": [
    "# Para data1\n",
    "mean_predicted_volume_1, rmse_1 = train_and_test_model(data1)\n",
    "print(\"Para data1:\")\n",
    "print(\"Volume médio previsto de reservas:\", mean_predicted_volume_1)\n",
    "print(\"REQM do modelo:\", rmse_1)\n",
    "print()"
   ]
  },
  {
   "cell_type": "code",
   "execution_count": null,
   "metadata": {},
   "outputs": [],
   "source": [
    "# Para data2\n",
    "mean_predicted_volume_2, rmse_2 = train_and_test_model(data2)\n",
    "print(\"Para data2:\")\n",
    "print(\"Volume médio previsto de reservas:\", mean_predicted_volume_2)\n",
    "print(\"REQM do modelo:\", rmse_2)"
   ]
  },
  {
   "cell_type": "markdown",
   "metadata": {},
   "source": [
    "Os resultados da análise do desempenho dos modelos de regressão linear para as três regiões revelam variações significativas. No caso da região representada por data1, observa-se um volume médio previsto de reservas relativamente baixo, mas com um REQM mínimo, indicando uma precisão considerável do modelo. Em contrapartida, as regiões representadas pelos conjuntos de dados data0 e data2 apresentam volumes médios previstos de reservas mais elevados, porém, com valores de REQM maiores, sugerindo que os modelos possam ter dificuldades em capturar a variabilidade dos dados nesses casos."
   ]
  },
  {
   "cell_type": "markdown",
   "metadata": {},
   "source": [
    "4  Cálculo do lucro"
   ]
  },
  {
   "cell_type": "code",
   "execution_count": null,
   "metadata": {},
   "outputs": [],
   "source": [
    "# Selecionando os top 200 poços de cada região\n",
    "top_wells_data0 = data0.nlargest(200, 'product')\n",
    "top_wells_data1 = data1.nlargest(200, 'product')\n",
    "top_wells_data2 = data2.nlargest(200, 'product')\n",
    "\n",
    "# Calculando o lucro projetado para cada região\n",
    "profit_data0 = (top_wells_data0['product'].sum() * 4500) - (100000000)\n",
    "profit_data1 = (top_wells_data1['product'].sum() * 4500) - (100000000)\n",
    "profit_data2 = (top_wells_data2['product'].sum() * 4500) - (100000000)\n",
    "\n",
    "# Imprimindo os resultados\n",
    "print(\"Lucro projetado para data0:\", profit_data0)\n",
    "print(\"Lucro projetado para data1:\", profit_data1)\n",
    "print(\"Lucro projetado para data2:\", profit_data2)"
   ]
  },
  {
   "cell_type": "markdown",
   "metadata": {},
   "source": [
    "Os resultados indicam que o lucro projetado para a Região 0 é de aproximadamente  66.35𝑚𝑖𝑙ℎõ𝑒𝑠,𝑝𝑎𝑟𝑎𝑎𝑅𝑒𝑔𝑖ã𝑜1é𝑑𝑒𝑐𝑒𝑟𝑐𝑎𝑑𝑒\n",
    " 24.15 milhões, e para a Região 2 é de aproximadamente $70.60 milhões. Esses valores representam o potencial de lucro após considerar os custos de desenvolvimento de 200 poços de petróleo em cada região."
   ]
  },
  {
   "cell_type": "markdown",
   "metadata": {},
   "source": [
    "5  Função para Calcular o Lucro"
   ]
  },
  {
   "cell_type": "code",
   "execution_count": null,
   "metadata": {},
   "outputs": [],
   "source": [
    "# Definindo os modelos de regressão linear para cada região\n",
    "model0 = LinearRegression()\n",
    "model1 = LinearRegression()\n",
    "model2 = LinearRegression()\n",
    "\n",
    "# Treinando os modelos com os dados de cada região\n",
    "model0.fit(data0[['f0', 'f1', 'f2']], data0['product'])\n",
    "model1.fit(data1[['f0', 'f1', 'f2']], data1['product'])\n",
    "model2.fit(data2[['f0', 'f1', 'f2']], data2['product'])\n",
    "\n",
    "# Função para calcular o lucro potencial de cada região\n",
    "def calculate_region_profit(region_name, data, model):\n",
    "    # Fazendo predições para todos os poços na região\n",
    "    X = data[['f0', 'f1', 'f2']]\n",
    "    y_pred = model.predict(X)\n",
    "    \n",
    "    # Adicionando as predições como uma coluna ao dataframe original\n",
    "    data[region_name + '_predicted_product'] = y_pred\n",
    "    \n",
    "    # Ordenando os poços pela predição de volume de reservas\n",
    "    data_sorted = data.sort_values(by=region_name + '_predicted_product', ascending=False)\n",
    "    \n",
    "    # Selecionando os 200 melhores poços\n",
    "    top_200_wells = data_sorted.head(200)\n",
    "    \n",
    "    # Calculando o volume total de reservas dos 200 melhores poços\n",
    "    total_volume = top_200_wells[region_name + '_predicted_product'].sum()\n",
    "    \n",
    "    # Calculando o lucro total dos 200 melhores poços\n",
    "    total_profit = total_volume * 4500\n",
    "    \n",
    "    # Verificando se o lucro total é suficiente para cobrir o investimento\n",
    "    if total_profit >= 100000000:  # Orçamento de 100 milhões para 200 poços\n",
    "        return total_profit, top_200_wells\n",
    "    else:\n",
    "        return 0, None\n",
    "\n",
    "# Chamando a função calculate_region_profit para cada região\n",
    "profit_0, top_wells_0 = calculate_region_profit('data0', data0, model0)\n",
    "profit_1, top_wells_1 = calculate_region_profit('data1', data1, model1)\n",
    "profit_2, top_wells_2 = calculate_region_profit('data2', data2, model2)\n",
    "\n",
    "# Exibindo os resultados\n",
    "print(\"Lucro potencial para data0:\", profit_0)\n",
    "print(\"Lucro potencial para data1:\", profit_1)\n",
    "print(\"Lucro potencial para data2:\", profit_2)\n"
   ]
  },
  {
   "cell_type": "markdown",
   "metadata": {},
   "source": [
    "Os resultados mostram que a região data0 possui o maior lucro potencial, seguida pela região data2 e, por último, a região data1. Isso sugere que a alocação de recursos para o desenvolvimento de poços de petróleo deve ser priorizada em data0, seguida por data2, de acordo com os modelos de regressão linear treinados para cada região."
   ]
  },
  {
   "cell_type": "markdown",
   "metadata": {},
   "source": [
    "6  Cálculo de Riscos e Lucro para Cada Região"
   ]
  },
  {
   "cell_type": "code",
   "execution_count": null,
   "metadata": {},
   "outputs": [],
   "source": [
    "# Custo de implantação para 200 poços de petróleo (em milhões de dólares)\n",
    "budget_per_well = 100000000\n",
    "\n",
    "# Definindo e treinando os modelos para cada região\n",
    "model_0 = LinearRegression().fit(data0[['f0', 'f1', 'f2']], data0['product'])\n",
    "model_1 = LinearRegression().fit(data1[['f0', 'f1', 'f2']], data1['product'])\n",
    "model_2 = LinearRegression().fit(data2[['f0', 'f1', 'f2']], data2['product'])\n",
    "\n",
    "# Função para calcular o lucro projetado para cada região\n",
    "def calculate_region_profit(data, model, budget_per_well):\n",
    "    # Fazendo predições para todos os poços na região\n",
    "    X = data[['f0', 'f1', 'f2']]\n",
    "    y_pred = model.predict(X)\n",
    "    data['predicted_product'] = y_pred\n",
    "    \n",
    "    # Ordenando os poços pela predição de volume de reservas\n",
    "    data_sorted = data.sort_values(by='predicted_product', ascending=False)\n",
    "    \n",
    "    # Selecionando os top 200 poços\n",
    "    top_200_wells = data_sorted.head(200)\n",
    "    \n",
    "    # Calculando o volume total de reservas dos top 200 poços\n",
    "    total_volume = top_200_wells['predicted_product'].sum()\n",
    "    \n",
    "    # Calculando o lucro total dos top 200 poços\n",
    "    total_profit = (total_volume * 4500) - budget_per_well\n",
    "    \n",
    "    return total_profit\n",
    "\n",
    "# Função para realizar bootstrapping e calcular métricas\n",
    "def bootstrap_and_calculate_metrics(data, model, budget_per_well, n_samples=1000):\n",
    "    profits = []\n",
    "    for _ in range(n_samples):\n",
    "        sampled_data = data.sample(n=500, replace=True)\n",
    "        profit = calculate_region_profit(sampled_data, model, budget_per_well)\n",
    "        profits.append(profit)\n",
    "    \n",
    "    mean_profit = np.mean(profits)\n",
    "    ci_lower = np.percentile(profits, 2.5)\n",
    "    ci_upper = np.percentile(profits, 97.5)\n",
    "    loss_risk = np.mean(np.array(profits) < 0) * 100\n",
    "    \n",
    "    return mean_profit, ci_lower, ci_upper, loss_risk\n",
    "\n",
    "# Calculando os lucros e métricas para cada região usando bootstrapping\n",
    "metrics_0 = bootstrap_and_calculate_metrics(data0, model_0, budget_per_well)\n",
    "metrics_1 = bootstrap_and_calculate_metrics(data1, model_1, budget_per_well)\n",
    "metrics_2 = bootstrap_and_calculate_metrics(data2, model_2, budget_per_well)\n",
    "\n",
    "# Apresentando os resultados para cada região\n",
    "print(\"Região 0:\")\n",
    "print(\"Lucro médio:\", metrics_0[0])\n",
    "print(\"Intervalo de confiança de 95%:\", (metrics_0[1], metrics_0[2]))\n",
    "print(\"Risco de prejuízo (%):\", metrics_0[3])\n",
    "print()\n",
    "\n",
    "print(\"Região 1:\")\n",
    "print(\"Lucro médio:\", metrics_1[0])\n",
    "print(\"Intervalo de confiança de 95%:\", (metrics_1[1], metrics_1[2]))\n",
    "print(\"Risco de prejuízo (%):\", metrics_1[3])\n",
    "print()\n",
    "\n",
    "print(\"Região 2:\")\n",
    "print(\"Lucro médio:\", metrics_2[0])\n",
    "print(\"Intervalo de confiança de 95%:\", (metrics_2[1], metrics_2[2]))\n",
    "print(\"Risco de prejuízo (%):\", metrics_2[3])\n"
   ]
  },
  {
   "cell_type": "markdown",
   "metadata": {},
   "source": [
    "Na região 0, o lucro médio foi de aproximadamente 3.57 milhões de dólares, com um intervalo de confiança de 95% entre 1.31 e 5.72 milhões de dólares, e um risco de prejuízo de 0.1%. Já na região 1, o lucro médio foi um pouco maior, cerca de 4.46 milhões de dólares, com um intervalo de confiança entre 0.42 e 8.56 milhões de dólares e um risco de prejuízo de 1.5%. Por fim, na região 2, o lucro médio foi de aproximadamente 2.89 milhões de dólares, com um intervalo de confiança entre 1.06 e 4.83 milhões de dólares e um risco de prejuízo de 0.2%."
   ]
  },
  {
   "cell_type": "markdown",
   "metadata": {},
   "source": [
    "7  Conclusões"
   ]
  },
  {
   "cell_type": "markdown",
   "metadata": {},
   "source": [
    "Com base nos novos resultados obtidos com a técnica de bootstrap, podemos observar algumas diferenças significativas em relação aos resultados anteriores. Utilizar o bootstrap nos permitiu calcular com mais precisão o lucro médio esperado, bem como entender melhor o intervalo de confiança e o risco de prejuízo associado a cada região.\n",
    "\n",
    "Dessa forma, com base nos novos resultados, podemos concluir que a região 1 apresenta o maior lucro médio projetado, embora também tenha o maior risco de prejuízo. Já as regiões 0 e 2 têm lucros médios menores, porém com riscos de prejuízo mais baixos. A escolha da região mais indicada para o desenvolvimento de poços de petróleo dependerá da tolerância ao risco e das metas de lucro da empresa."
   ]
  }
 ],
 "metadata": {
  "language_info": {
   "name": "python"
  }
 },
 "nbformat": 4,
 "nbformat_minor": 2
}
